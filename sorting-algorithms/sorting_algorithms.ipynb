{
  "cells": [
    {
      "cell_type": "code",
      "execution_count": null,
      "metadata": {
        "colab": {
          "base_uri": "https://localhost:8080/"
        },
        "id": "QXX9K3c6LWfN",
        "outputId": "ac4314d6-f99c-45c2-c4fd-30559f74c712"
      },
      "outputs": [
        {
          "name": "stdout",
          "output_type": "stream",
          "text": [
            "Python 3.10.12\n"
          ]
        }
      ],
      "source": [
        "!python --version"
      ]
    },
    {
      "cell_type": "markdown",
      "metadata": {
        "id": "DeiO4kFyLjoW"
      },
      "source": [
        "# Bubble Sort"
      ]
    },
    {
      "cell_type": "code",
      "execution_count": null,
      "metadata": {
        "id": "oiZLKAVGLYeC"
      },
      "outputs": [],
      "source": [
        "def bubble_sort(arr):\n",
        "  n = len(arr)\n",
        "  for i in range(n):\n",
        "    swapped = False\n",
        "    for j in range(0, n - i - 1):\n",
        "      if arr[j] > arr[j + 1]:\n",
        "        arr[j], arr[j + 1] = arr[j + 1], arr[j]\n",
        "        swapped = True\n",
        "    if not swapped:\n",
        "      break\n",
        "  return arr"
      ]
    },
    {
      "cell_type": "markdown",
      "metadata": {
        "id": "tC66V3QMLmWL"
      },
      "source": [
        "# Insertion Sort"
      ]
    },
    {
      "cell_type": "code",
      "execution_count": null,
      "metadata": {
        "id": "gTsEjcBaLtt2"
      },
      "outputs": [],
      "source": [
        "def insertion_sort(arr):\n",
        "  for i in range(1, len(arr)):\n",
        "    key = arr[i]\n",
        "    j = i - 1\n",
        "    while j >= 0 and key < arr[j]:\n",
        "      arr[j + 1] = arr[j]\n",
        "      j -= 1\n",
        "    arr[j + 1] = key\n",
        "  return arr"
      ]
    },
    {
      "cell_type": "markdown",
      "metadata": {
        "id": "FGPbdV4FLx_M"
      },
      "source": [
        "# Merge Sort"
      ]
    },
    {
      "cell_type": "code",
      "execution_count": null,
      "metadata": {
        "id": "8SoG0DdIL2F6"
      },
      "outputs": [],
      "source": [
        "def merge_sort(arr):\n",
        "  if len(arr) > 1:\n",
        "    mid = len(arr) // 2\n",
        "    L = arr[:mid]\n",
        "    R = arr[mid:]\n",
        "    merge_sort(L)\n",
        "    merge_sort(R)\n",
        "    i = j = k = 0\n",
        "    while i < len(L) and j < len(R):\n",
        "      if L[i] <= R[j]:\n",
        "        arr[k] = L[i]\n",
        "        i += 1\n",
        "      else:\n",
        "        arr[k] = R[j]\n",
        "        j += 1\n",
        "      k += 1\n",
        "    while i < len(L):\n",
        "      arr[k] = L[i]\n",
        "      i += 1\n",
        "      k += 1\n",
        "    while j < len(R):\n",
        "      arr[k] = R[j]\n",
        "      j += 1\n",
        "      k += 1\n",
        "  return arr"
      ]
    },
    {
      "cell_type": "markdown",
      "metadata": {
        "id": "7KI6x1kySBGF"
      },
      "source": [
        "# Criando dicionário para armazenar valores de tempo"
      ]
    },
    {
      "cell_type": "code",
      "execution_count": null,
      "metadata": {
        "id": "hAIv_tA9SCSv"
      },
      "outputs": [],
      "source": [
        "valores = dict()"
      ]
    },
    {
      "cell_type": "markdown",
      "metadata": {
        "id": "v9U66JfBkFCu"
      },
      "source": [
        "# Criando função para calcular o tempo e armazenar em uma lista de dicionários"
      ]
    },
    {
      "cell_type": "code",
      "execution_count": null,
      "metadata": {
        "id": "doqoEv4BSjVs"
      },
      "outputs": [],
      "source": [
        "from time import time"
      ]
    },
    {
      "cell_type": "code",
      "execution_count": null,
      "metadata": {
        "id": "Ri2L697aVace"
      },
      "outputs": [],
      "source": [
        "def calcular(func, nome, tamanho):\n",
        "  tempo_inicial = time()\n",
        "  func()\n",
        "  tempo_final = time()\n",
        "  valores[f'{nome, tamanho}'] = tempo_final - tempo_inicial"
      ]
    },
    {
      "cell_type": "markdown",
      "metadata": {
        "id": "a9nF9CEWjpV6"
      },
      "source": [
        "# Criando arrays para ordenação"
      ]
    },
    {
      "cell_type": "code",
      "execution_count": null,
      "metadata": {
        "id": "qSH2Dv2nNwBL"
      },
      "outputs": [],
      "source": [
        "import numpy as np"
      ]
    },
    {
      "cell_type": "code",
      "execution_count": null,
      "metadata": {
        "id": "c4w9EGl_W1YR"
      },
      "outputs": [],
      "source": [
        "array_1000 = np.random.randint(0, 746372, size=1000)\n",
        "array_5000 = np.random.randint(0, 746372, size=5000)\n",
        "array_10000 = np.random.randint(0, 746372, size=10000)"
      ]
    },
    {
      "cell_type": "markdown",
      "metadata": {
        "id": "YUktWjU2ReLe"
      },
      "source": [
        "# Implementação Bubble Sort"
      ]
    },
    {
      "cell_type": "code",
      "execution_count": null,
      "metadata": {
        "id": "N1yLiP92O30X"
      },
      "outputs": [],
      "source": [
        "calcular(lambda: bubble_sort(array_1000), 'bubble_sort', 1000)"
      ]
    },
    {
      "cell_type": "code",
      "execution_count": null,
      "metadata": {
        "id": "PTWpPYJmQuwU"
      },
      "outputs": [],
      "source": [
        "calcular(lambda: bubble_sort(array_5000), 'bubble_sort', 5000)"
      ]
    },
    {
      "cell_type": "code",
      "execution_count": null,
      "metadata": {
        "id": "iPtOzMUOQuyx"
      },
      "outputs": [],
      "source": [
        "calcular(lambda: bubble_sort(array_10000), 'bubble_sort', 10000)"
      ]
    },
    {
      "cell_type": "markdown",
      "metadata": {
        "id": "LMdOYk4BRhfW"
      },
      "source": [
        "# Implementação Insertion Sort"
      ]
    },
    {
      "cell_type": "code",
      "execution_count": null,
      "metadata": {
        "id": "U9xjEK0_PR8-"
      },
      "outputs": [],
      "source": [
        "calcular(lambda: insertion_sort(array_1000), 'insertion_sort', 1000)"
      ]
    },
    {
      "cell_type": "code",
      "execution_count": null,
      "metadata": {
        "id": "kSfDbJHeQvaR"
      },
      "outputs": [],
      "source": [
        "calcular(lambda: insertion_sort(array_5000), 'insertion_sort', 5000)"
      ]
    },
    {
      "cell_type": "code",
      "execution_count": null,
      "metadata": {
        "id": "tFesEDFFQvcT"
      },
      "outputs": [],
      "source": [
        "calcular(lambda: insertion_sort(array_10000), 'insertion_sort', 10000)"
      ]
    },
    {
      "cell_type": "markdown",
      "metadata": {
        "id": "8jaip4VVRkTk"
      },
      "source": [
        "# Implementação Merge Sort"
      ]
    },
    {
      "cell_type": "code",
      "execution_count": null,
      "metadata": {
        "id": "5l11z6XiPSF2"
      },
      "outputs": [],
      "source": [
        "calcular(lambda: merge_sort(array_1000), 'merge_sort', 1000)"
      ]
    },
    {
      "cell_type": "code",
      "execution_count": null,
      "metadata": {
        "id": "Mq7VLXivQN8x"
      },
      "outputs": [],
      "source": [
        "calcular(lambda: merge_sort(array_5000), 'merge_sort', 5000)"
      ]
    },
    {
      "cell_type": "code",
      "execution_count": null,
      "metadata": {
        "id": "UmAZ5kAuQN-s"
      },
      "outputs": [],
      "source": [
        "calcular(lambda: merge_sort(array_10000), 'merge_sort', 10000)"
      ]
    },
    {
      "cell_type": "markdown",
      "metadata": {
        "id": "nMkTmP8oXFkh"
      },
      "source": [
        "# Verificando dicionário com valores de tempo"
      ]
    },
    {
      "cell_type": "code",
      "execution_count": null,
      "metadata": {
        "colab": {
          "base_uri": "https://localhost:8080/"
        },
        "id": "gBEnPWKjXGwA",
        "outputId": "b1dd4ee5-add5-448c-87cd-902b30b7ac24"
      },
      "outputs": [
        {
          "data": {
            "text/plain": [
              "{\"('bubble_sort', 1000)\": 0.46970248222351074,\n",
              " \"('bubble_sort', 5000)\": 6.3422770500183105,\n",
              " \"('bubble_sort', 10000)\": 26.51699709892273,\n",
              " \"('insertion_sort', 1000)\": 0.0007643699645996094,\n",
              " \"('insertion_sort', 5000)\": 0.002515077590942383,\n",
              " \"('insertion_sort', 10000)\": 0.006241559982299805,\n",
              " \"('merge_sort', 1000)\": 0.0063745975494384766,\n",
              " \"('merge_sort', 5000)\": 0.036432504653930664,\n",
              " \"('merge_sort', 10000)\": 0.07233238220214844}"
            ]
          },
          "execution_count": 236,
          "metadata": {},
          "output_type": "execute_result"
        }
      ],
      "source": [
        "valores"
      ]
    },
    {
      "cell_type": "markdown",
      "metadata": {
        "id": "Ak7-tQxHnEI0"
      },
      "source": [
        "# Criando dicionário para armazenar somas e contagens para cada tipo de algoritmo"
      ]
    },
    {
      "cell_type": "code",
      "execution_count": null,
      "metadata": {
        "id": "7GuWWW_ymNp5"
      },
      "outputs": [],
      "source": [
        "somas = {}\n",
        "contagens = {}"
      ]
    },
    {
      "cell_type": "markdown",
      "metadata": {
        "id": "9LQEOZtYnNWV"
      },
      "source": [
        "# Iterando sobre os dados e calculando a soma e a contagem para cada tipo de algoritmo"
      ]
    },
    {
      "cell_type": "code",
      "execution_count": null,
      "metadata": {
        "id": "z3_WcTI_mQDu"
      },
      "outputs": [],
      "source": [
        "for chave, valor in valores.items():\n",
        "  tipo_algoritmo = chave.split(',')[0]\n",
        "  if tipo_algoritmo not in somas:\n",
        "    somas[tipo_algoritmo] = 0.0\n",
        "    contagens[tipo_algoritmo] = 0\n",
        "  somas[tipo_algoritmo] += valor\n",
        "  contagens[tipo_algoritmo] += 1"
      ]
    },
    {
      "cell_type": "markdown",
      "metadata": {
        "id": "bvMQDlEInSKa"
      },
      "source": [
        "# Calculando a média para cada tipo de algoritmo"
      ]
    },
    {
      "cell_type": "code",
      "execution_count": null,
      "metadata": {
        "id": "LWfDE1Q0mQZY"
      },
      "outputs": [],
      "source": [
        "médias = {}\n",
        "for tipo_algoritmo, soma in somas.items():\n",
        "  médias[tipo_algoritmo] = soma / contagens[tipo_algoritmo]"
      ]
    },
    {
      "cell_type": "markdown",
      "metadata": {
        "id": "DQ7lRcdRnV7E"
      },
      "source": [
        "# Mostrando as médias"
      ]
    },
    {
      "cell_type": "code",
      "execution_count": null,
      "metadata": {
        "colab": {
          "base_uri": "https://localhost:8080/"
        },
        "id": "2Jlh16QgmX-P",
        "outputId": "9116e63e-d4eb-4dd6-b669-8dd0fc870803"
      },
      "outputs": [
        {
          "data": {
            "text/plain": [
              "{\"('bubble_sort'\": 11.10965887705485,\n",
              " \"('insertion_sort'\": 0.003173669179280599,\n",
              " \"('merge_sort'\": 0.038379828135172524}"
            ]
          },
          "execution_count": 240,
          "metadata": {},
          "output_type": "execute_result"
        }
      ],
      "source": [
        "médias"
      ]
    }
  ],
  "metadata": {
    "colab": {
      "authorship_tag": "ABX9TyMJ5bbU+8Oabj+kYaFMNDOO",
      "provenance": []
    },
    "kernelspec": {
      "display_name": "Python 3",
      "name": "python3"
    },
    "language_info": {
      "name": "python"
    }
  },
  "nbformat": 4,
  "nbformat_minor": 0
}
